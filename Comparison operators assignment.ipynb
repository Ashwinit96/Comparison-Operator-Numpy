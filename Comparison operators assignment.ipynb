{
 "cells": [
  {
   "cell_type": "markdown",
   "metadata": {},
   "source": [
    "# Comparison Operators"
   ]
  },
  {
   "cell_type": "code",
   "execution_count": 3,
   "metadata": {},
   "outputs": [
    {
     "data": {
      "text/plain": [
       "array([16.983, 11.424, 21.573, 14.256, 25.272])"
      ]
     },
     "execution_count": 3,
     "metadata": {},
     "output_type": "execute_result"
    }
   ],
   "source": [
    "import numpy as np\n",
    "np_length = np.array([2.7, 3.4, 4.7, 6.6, 7.8])\n",
    "np_breath = np.array([3.7, 1.4, 2.7, 3.6, 1.8])\n",
    "np_height = np.array([1.7, 2.4, 1.7, 0.6, 1.8])\n",
    "vol_cuboid = np_length * np_breath * np_height\n",
    "vol_cuboid"
   ]
  },
  {
   "cell_type": "markdown",
   "metadata": {},
   "source": [
    "Show the vol_cuboid which are greater than 15"
   ]
  },
  {
   "cell_type": "code",
   "execution_count": 74,
   "metadata": {},
   "outputs": [
    {
     "data": {
      "text/plain": [
       "array([16.983, 11.424, 21.573, 14.256, 25.272])"
      ]
     },
     "execution_count": 74,
     "metadata": {},
     "output_type": "execute_result"
    }
   ],
   "source": [
    "## Start code here\n",
    "import numpy as np\n",
    "np_length = np.array([2.7, 3.4, 4.7, 6.6, 7.8])\n",
    "np_breath = np.array([3.7, 1.4, 2.7, 3.6, 1.8])\n",
    "np_height = np.array([1.7, 2.4, 1.7, 0.6, 1.8])\n",
    "vol_cuboid = np_length * np_breath * np_height\n",
    "vol_cuboid"
   ]
  },
  {
   "cell_type": "code",
   "execution_count": 75,
   "metadata": {},
   "outputs": [
    {
     "data": {
      "text/plain": [
       "array([ True, False,  True, False,  True])"
      ]
     },
     "execution_count": 75,
     "metadata": {},
     "output_type": "execute_result"
    }
   ],
   "source": [
    "vol_cuboid>15\n",
    "## End here"
   ]
  },
  {
   "cell_type": "code",
   "execution_count": 77,
   "metadata": {},
   "outputs": [
    {
     "data": {
      "text/plain": [
       "array([16.983, 21.573, 25.272])"
      ]
     },
     "execution_count": 77,
     "metadata": {},
     "output_type": "execute_result"
    }
   ],
   "source": [
    "vol_cuboid[vol_cuboid>15]"
   ]
  },
  {
   "cell_type": "markdown",
   "metadata": {},
   "source": [
    "## Numeric & Variable Comparison"
   ]
  },
  {
   "cell_type": "markdown",
   "metadata": {},
   "source": [
    "Using comparison operators show:\n",
    "\n",
    "Q1. If 10.5 is greater thean 10\n",
    "\n",
    "Q2. If 10.5 is greater than equal to 10.5\n",
    "\n",
    "Q3. If 20 is equal to 20.1\n",
    "\n",
    "Q4. If Ansh is greater than Anshu\n",
    "\n",
    "Q5. If Monkey is greater than 5"
   ]
  },
  {
   "cell_type": "code",
   "execution_count": 11,
   "metadata": {},
   "outputs": [
    {
     "data": {
      "text/plain": [
       "True"
      ]
     },
     "execution_count": 11,
     "metadata": {},
     "output_type": "execute_result"
    }
   ],
   "source": [
    "# 1\n",
    "## Start code here\n",
    "10.5>10\n",
    "## End here"
   ]
  },
  {
   "cell_type": "code",
   "execution_count": 12,
   "metadata": {},
   "outputs": [
    {
     "data": {
      "text/plain": [
       "True"
      ]
     },
     "execution_count": 12,
     "metadata": {},
     "output_type": "execute_result"
    }
   ],
   "source": [
    "# 2\n",
    "## Start code here\n",
    "10.5>=10.5\n",
    "## End here"
   ]
  },
  {
   "cell_type": "code",
   "execution_count": 14,
   "metadata": {},
   "outputs": [
    {
     "data": {
      "text/plain": [
       "False"
      ]
     },
     "execution_count": 14,
     "metadata": {},
     "output_type": "execute_result"
    }
   ],
   "source": [
    "# 3\n",
    "## Start code here\n",
    "20==20.1\n",
    "## End here"
   ]
  },
  {
   "cell_type": "code",
   "execution_count": 80,
   "metadata": {},
   "outputs": [
    {
     "data": {
      "text/plain": [
       "False"
      ]
     },
     "execution_count": 80,
     "metadata": {},
     "output_type": "execute_result"
    }
   ],
   "source": [
    "# 4\n",
    "## Start code here\n",
    "a=[\"Ansh\"]\n",
    "b=[\"Anshu\"]\n",
    "## End here\n",
    "a>b"
   ]
  },
  {
   "cell_type": "code",
   "execution_count": 116,
   "metadata": {},
   "outputs": [
    {
     "data": {
      "text/plain": [
       "True"
      ]
     },
     "execution_count": 116,
     "metadata": {},
     "output_type": "execute_result"
    }
   ],
   "source": [
    "# 5\n",
    "## Start code here\n",
    "\"Monkey\">\"5\"\n",
    "## End here"
   ]
  },
  {
   "cell_type": "markdown",
   "metadata": {},
   "source": [
    "## Boolean Operators\n",
    "\n",
    "1. and\n",
    "2. or\n",
    "3. not"
   ]
  },
  {
   "cell_type": "markdown",
   "metadata": {},
   "source": [
    "Q1. Use and operator to check if x is greater than 2 and less than 10\n",
    "\n",
    "Q2. Use or operator to check if x is grater than 3 and less than 10\n",
    "\n",
    "Q3. Use not operator to check if x is greater than 5 and less than 8"
   ]
  },
  {
   "cell_type": "code",
   "execution_count": 20,
   "metadata": {},
   "outputs": [
    {
     "name": "stdout",
     "output_type": "stream",
     "text": [
      "True\n"
     ]
    }
   ],
   "source": [
    "# 1\n",
    "## Start code here\n",
    "x=5\n",
    "print(x>2 and x<10)\n",
    "## End here"
   ]
  },
  {
   "cell_type": "code",
   "execution_count": 21,
   "metadata": {},
   "outputs": [
    {
     "name": "stdout",
     "output_type": "stream",
     "text": [
      "True\n"
     ]
    }
   ],
   "source": [
    "# 2\n",
    "## Start code here\n",
    "print(x>3 or x<10)\n",
    "## End here"
   ]
  },
  {
   "cell_type": "code",
   "execution_count": 25,
   "metadata": {},
   "outputs": [
    {
     "data": {
      "text/plain": [
       "False"
      ]
     },
     "execution_count": 25,
     "metadata": {},
     "output_type": "execute_result"
    }
   ],
   "source": [
    "# 3\n",
    "## Start code here\n",
    "(x>5 and x<8)"
   ]
  },
  {
   "cell_type": "code",
   "execution_count": 28,
   "metadata": {},
   "outputs": [
    {
     "data": {
      "text/plain": [
       "True"
      ]
     },
     "execution_count": 28,
     "metadata": {},
     "output_type": "execute_result"
    }
   ],
   "source": [
    "not(x>5 and x<8)\n",
    "## End here"
   ]
  },
  {
   "cell_type": "markdown",
   "metadata": {},
   "source": [
    "## Numpy\n",
    "\n",
    "1. logical_and()\n",
    "2. logical_or()\n",
    "3. logical_not()"
   ]
  },
  {
   "cell_type": "markdown",
   "metadata": {},
   "source": [
    "Q1. Use the logical_and operator to check if vol_cuboid is greater than 11 and less than 20\n",
    "\n",
    "Q2. Use the logical_or operator to check if vol_cuboid is greater than 11 and less than 20\n",
    "\n",
    "Q3. Use the logical_not operator to check if vol_cuboid is greater than 11 and less than 20"
   ]
  },
  {
   "cell_type": "code",
   "execution_count": 61,
   "metadata": {},
   "outputs": [
    {
     "name": "stdout",
     "output_type": "stream",
     "text": [
      "[ 9 10 11 12]\n"
     ]
    },
    {
     "data": {
      "text/plain": [
       "array([False, False, False,  True])"
      ]
     },
     "execution_count": 61,
     "metadata": {},
     "output_type": "execute_result"
    }
   ],
   "source": [
    "# 1\n",
    "## Start code here\n",
    "import numpy as np\n",
    "print(vol_cuboid)\n",
    "np.logical_and(vol_cuboid>11,vol_cuboid<20)\n",
    "## End here"
   ]
  },
  {
   "cell_type": "code",
   "execution_count": 47,
   "metadata": {},
   "outputs": [
    {
     "data": {
      "text/plain": [
       "array([ True,  True,  True,  True])"
      ]
     },
     "execution_count": 47,
     "metadata": {},
     "output_type": "execute_result"
    }
   ],
   "source": [
    "# 2\n",
    "## Start code here\n",
    "np.logical_or(vol_cuboid>11,vol_cuboid<20)\n",
    "## End here"
   ]
  },
  {
   "cell_type": "code",
   "execution_count": 48,
   "metadata": {},
   "outputs": [
    {
     "data": {
      "text/plain": [
       "array([ True,  True,  True, False])"
      ]
     },
     "execution_count": 48,
     "metadata": {},
     "output_type": "execute_result"
    }
   ],
   "source": [
    "# 3\n",
    "## Start code here\n",
    "np.logical_not(vol_cuboid>11,vol_cuboid<20)\n",
    "## End here"
   ]
  },
  {
   "cell_type": "markdown",
   "metadata": {},
   "source": [
    "## if , elif , else"
   ]
  },
  {
   "cell_type": "code",
   "execution_count": null,
   "metadata": {},
   "outputs": [],
   "source": [
    "a = 100\n",
    "b = 10"
   ]
  },
  {
   "cell_type": "markdown",
   "metadata": {},
   "source": [
    "Q1. Use if condition statment to check if a is greater than b and print the greatest number.\n",
    "\n",
    "Q2. Use else condition statment to check if b is greater or less than a and print the greatest number.\n",
    "\n",
    "Q3. Use elif condition statment to check if b is greater , less than or equal to a and print the greatest number."
   ]
  },
  {
   "cell_type": "code",
   "execution_count": 25,
   "metadata": {},
   "outputs": [
    {
     "name": "stdout",
     "output_type": "stream",
     "text": [
      "The greatest number is: 100\n"
     ]
    }
   ],
   "source": [
    "# 1\n",
    "## Start code here\n",
    "a = 100\n",
    "b = 10\n",
    "if(a>b):\n",
    "    print(\"The greatest number is:\",a)\n",
    "## End here"
   ]
  },
  {
   "cell_type": "code",
   "execution_count": 30,
   "metadata": {},
   "outputs": [
    {
     "name": "stdout",
     "output_type": "stream",
     "text": [
      "b is less than a and the greatest number is 100\n"
     ]
    }
   ],
   "source": [
    "# 2\n",
    "## Start code here\n",
    "a = 100\n",
    "b = 10\n",
    "if(b>a):\n",
    "    print(\"The greatest number is:\",b)\n",
    "else:\n",
    "    print(\"b is less than a and the greatest number is\",a)\n",
    "## End here"
   ]
  },
  {
   "cell_type": "code",
   "execution_count": 39,
   "metadata": {},
   "outputs": [
    {
     "name": "stdout",
     "output_type": "stream",
     "text": [
      "b is less than a and the greatest number is: 100\n"
     ]
    }
   ],
   "source": [
    "# 3\n",
    "## Start code here\n",
    "a = 100\n",
    "b = 10\n",
    "if(b>a):\n",
    "    print(\"The greatest number is:\",b)\n",
    "elif(b<a):\n",
    "    print(\"b is less than a and the greatest number is:\",a)\n",
    "else:\n",
    "    print(\"b is equal to a\")\n",
    "## End here"
   ]
  },
  {
   "cell_type": "markdown",
   "metadata": {},
   "source": [
    "## Filtering pandas Dataframes"
   ]
  },
  {
   "cell_type": "code",
   "execution_count": null,
   "metadata": {},
   "outputs": [],
   "source": [
    "df = {\n",
    "    \"Name\": [\"aparna\", \"pankaj\", \"sudhir\", \"Geeku\", \"Chiku\", \"Jeniffer\"], \n",
    "    \"Degree\": [\"Bsc\", \"Engineering\", \"Law\", \"MBBS\", \"Phd\", \"Nursing\"],\n",
    "    \"College\": [\"VIT\", \"IIT\", \"KIIT\", \"AIMS\", \"IIIT\", \"APPOLO\"],\n",
    "    \"Score\": [90, 70, 80, 98, 76, 89]} \n",
    "\n",
    "import pandas as pd\n",
    "dataframe = pd.DataFrame(df)\n",
    "dataframe"
   ]
  },
  {
   "cell_type": "markdown",
   "metadata": {},
   "source": [
    "Q1. Access the Score column\n",
    "\n",
    "Q2. Use comparison operator to show which students has score greater than 80\n",
    "\n",
    "Q3. Use logical_and operator to see scores greater than 75 and less than 90"
   ]
  },
  {
   "cell_type": "code",
   "execution_count": 57,
   "metadata": {},
   "outputs": [
    {
     "data": {
      "text/plain": [
       "0    90\n",
       "1    70\n",
       "2    80\n",
       "3    98\n",
       "4    76\n",
       "5    89\n",
       "Name: Score, dtype: int64"
      ]
     },
     "execution_count": 57,
     "metadata": {},
     "output_type": "execute_result"
    }
   ],
   "source": [
    "# 1\n",
    "## Start code here\n",
    "df = {\n",
    "    \"Name\": [\"aparna\", \"pankaj\", \"sudhir\", \"Geeku\", \"Chiku\", \"Jeniffer\"], \n",
    "    \"Degree\": [\"Bsc\", \"Engineering\", \"Law\", \"MBBS\", \"Phd\", \"Nursing\"],\n",
    "    \"College\": [\"VIT\", \"IIT\", \"KIIT\", \"AIMS\", \"IIIT\", \"APPOLO\"],\n",
    "    \"Score\": [90, 70, 80, 98, 76, 89]} \n",
    "import pandas as pd\n",
    "dataframe = pd.DataFrame(df)\n",
    "dataframe\n",
    "dataframe[\"Score\"]\n",
    "## End here"
   ]
  },
  {
   "cell_type": "code",
   "execution_count": 51,
   "metadata": {},
   "outputs": [
    {
     "data": {
      "text/plain": [
       "pandas.core.series.Series"
      ]
     },
     "execution_count": 51,
     "metadata": {},
     "output_type": "execute_result"
    }
   ],
   "source": [
    "type(dataframe[\"Score\"])"
   ]
  },
  {
   "cell_type": "code",
   "execution_count": 62,
   "metadata": {},
   "outputs": [
    {
     "data": {
      "text/plain": [
       "0     True\n",
       "1    False\n",
       "2    False\n",
       "3     True\n",
       "4    False\n",
       "5     True\n",
       "Name: Score, dtype: bool"
      ]
     },
     "execution_count": 62,
     "metadata": {},
     "output_type": "execute_result"
    }
   ],
   "source": [
    "# 2\n",
    "## Start code here\n",
    "dataframe[\"Score\"]>80"
   ]
  },
  {
   "cell_type": "code",
   "execution_count": 64,
   "metadata": {},
   "outputs": [
    {
     "data": {
      "text/html": [
       "<div>\n",
       "<style scoped>\n",
       "    .dataframe tbody tr th:only-of-type {\n",
       "        vertical-align: middle;\n",
       "    }\n",
       "\n",
       "    .dataframe tbody tr th {\n",
       "        vertical-align: top;\n",
       "    }\n",
       "\n",
       "    .dataframe thead th {\n",
       "        text-align: right;\n",
       "    }\n",
       "</style>\n",
       "<table border=\"1\" class=\"dataframe\">\n",
       "  <thead>\n",
       "    <tr style=\"text-align: right;\">\n",
       "      <th></th>\n",
       "      <th>Name</th>\n",
       "      <th>Degree</th>\n",
       "      <th>College</th>\n",
       "      <th>Score</th>\n",
       "    </tr>\n",
       "  </thead>\n",
       "  <tbody>\n",
       "    <tr>\n",
       "      <th>0</th>\n",
       "      <td>aparna</td>\n",
       "      <td>Bsc</td>\n",
       "      <td>VIT</td>\n",
       "      <td>90</td>\n",
       "    </tr>\n",
       "    <tr>\n",
       "      <th>3</th>\n",
       "      <td>Geeku</td>\n",
       "      <td>MBBS</td>\n",
       "      <td>AIMS</td>\n",
       "      <td>98</td>\n",
       "    </tr>\n",
       "    <tr>\n",
       "      <th>5</th>\n",
       "      <td>Jeniffer</td>\n",
       "      <td>Nursing</td>\n",
       "      <td>APPOLO</td>\n",
       "      <td>89</td>\n",
       "    </tr>\n",
       "  </tbody>\n",
       "</table>\n",
       "</div>"
      ],
      "text/plain": [
       "       Name   Degree College  Score\n",
       "0    aparna      Bsc     VIT     90\n",
       "3     Geeku     MBBS    AIMS     98\n",
       "5  Jeniffer  Nursing  APPOLO     89"
      ]
     },
     "execution_count": 64,
     "metadata": {},
     "output_type": "execute_result"
    }
   ],
   "source": [
    "dataframe[dataframe[\"Score\"]>80]\n",
    "## End here"
   ]
  },
  {
   "cell_type": "code",
   "execution_count": 72,
   "metadata": {},
   "outputs": [
    {
     "data": {
      "text/html": [
       "<div>\n",
       "<style scoped>\n",
       "    .dataframe tbody tr th:only-of-type {\n",
       "        vertical-align: middle;\n",
       "    }\n",
       "\n",
       "    .dataframe tbody tr th {\n",
       "        vertical-align: top;\n",
       "    }\n",
       "\n",
       "    .dataframe thead th {\n",
       "        text-align: right;\n",
       "    }\n",
       "</style>\n",
       "<table border=\"1\" class=\"dataframe\">\n",
       "  <thead>\n",
       "    <tr style=\"text-align: right;\">\n",
       "      <th></th>\n",
       "      <th>Name</th>\n",
       "      <th>Degree</th>\n",
       "      <th>College</th>\n",
       "      <th>Score</th>\n",
       "    </tr>\n",
       "  </thead>\n",
       "  <tbody>\n",
       "    <tr>\n",
       "      <th>2</th>\n",
       "      <td>sudhir</td>\n",
       "      <td>Law</td>\n",
       "      <td>KIIT</td>\n",
       "      <td>80</td>\n",
       "    </tr>\n",
       "    <tr>\n",
       "      <th>4</th>\n",
       "      <td>Chiku</td>\n",
       "      <td>Phd</td>\n",
       "      <td>IIIT</td>\n",
       "      <td>76</td>\n",
       "    </tr>\n",
       "    <tr>\n",
       "      <th>5</th>\n",
       "      <td>Jeniffer</td>\n",
       "      <td>Nursing</td>\n",
       "      <td>APPOLO</td>\n",
       "      <td>89</td>\n",
       "    </tr>\n",
       "  </tbody>\n",
       "</table>\n",
       "</div>"
      ],
      "text/plain": [
       "       Name   Degree College  Score\n",
       "2    sudhir      Law    KIIT     80\n",
       "4     Chiku      Phd    IIIT     76\n",
       "5  Jeniffer  Nursing  APPOLO     89"
      ]
     },
     "execution_count": 72,
     "metadata": {},
     "output_type": "execute_result"
    }
   ],
   "source": [
    "# 3\n",
    "## Start code here\n",
    "import numpy as np\n",
    "dataframe[np.logical_and(dataframe[\"Score\"]>75,dataframe[\"Score\"]<90)]\n",
    "## End here"
   ]
  }
 ],
 "metadata": {
  "kernelspec": {
   "display_name": "Python 3",
   "language": "python",
   "name": "python3"
  },
  "language_info": {
   "codemirror_mode": {
    "name": "ipython",
    "version": 3
   },
   "file_extension": ".py",
   "mimetype": "text/x-python",
   "name": "python",
   "nbconvert_exporter": "python",
   "pygments_lexer": "ipython3",
   "version": "3.7.6"
  }
 },
 "nbformat": 4,
 "nbformat_minor": 4
}
